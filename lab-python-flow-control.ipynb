{
 "cells": [
  {
   "cell_type": "markdown",
   "id": "d3bfc191-8885-42ee-b0a0-bbab867c6f9f",
   "metadata": {
    "tags": []
   },
   "source": [
    "# Lab | Flow Control"
   ]
  },
  {
   "cell_type": "markdown",
   "id": "3851fcd1-cf98-4653-9c89-e003b7ec9400",
   "metadata": {},
   "source": [
    "## Exercise: Managing Customer Orders Optimized\n",
    "\n",
    "In the last lab, you were starting an online store that sells various products. To ensure smooth operations, you developed a program that manages customer orders and inventory.\n",
    "\n",
    "You did so without using flow control. Let's go a step further and improve this code.\n",
    "\n",
    "Follow the steps below to complete the exercise:\n",
    "\n",
    "1. Look at your code from the lab data structures, and improve repeated code with loops.\n",
    "\n",
    "2. Instead of asking the user to input the name of three products that a customer wants to order, do the following:\n",
    "    \n",
    "    a. Prompt the user to enter the name of a product that a customer wants to order.\n",
    "    \n",
    "    b. Add the product name to the \"customer_orders\" set.\n",
    "    \n",
    "    c. Ask the user if they want to add another product (yes/no).\n",
    "    \n",
    "    d. Continue the loop until the user does not want to add another product.\n",
    "\n",
    "3. Instead of updating the inventory by subtracting 1 from the quantity of each product, only do it for  the products that were ordered (those in \"customer_orders\")."
   ]
  },
  {
   "cell_type": "code",
   "execution_count": 9,
   "id": "1d797098",
   "metadata": {},
   "outputs": [
    {
     "name": "stdout",
     "output_type": "stream",
     "text": [
      "How many t-shirts are available in the inventory? Please input a whole number.37\n",
      "How many mugs are available in the inventory? Please input a whole number.44\n",
      "How many hats are available in the inventory? Please input a whole number.62\n",
      "How many books are available in the inventory? Please input a whole number.111\n",
      "How many keychains are available in the inventory? Please input a whole number.93\n",
      "Currently available inventory: {'t-shirt': 37, 'mug': 44, 'hat': 62, 'book': 111, 'keychain': 93}\n",
      "Which product would you like to order? Please type one of the following choices: ['t-shirt', 'mug', 'hat', 'book', 'keychain']mug\n",
      "Would you like to order another product? Please type yes or no.yes\n",
      "Which product would you like to order? Please type one of the following choices: ['t-shirt', 'mug', 'hat', 'book', 'keychain']t-shirt\n",
      "Would you like to order another product? Please type yes or no.yes\n",
      "Which product would you like to order? Please type one of the following choices: ['t-shirt', 'mug', 'hat', 'book', 'keychain']hat\n",
      "Would you like to order another product? Please type yes or no.yes\n",
      "Which product would you like to order? Please type one of the following choices: ['t-shirt', 'mug', 'hat', 'book', 'keychain']book\n",
      "Would you like to order another product? Please type yes or no.no\n",
      "You selected hats to order, and we have 62 units available. How many would you like to order?\n",
      "Please input a whole number.26\n",
      "You selected books to order, and we have 111 units available. How many would you like to order?\n",
      "Please input a whole number.87\n",
      "You selected mugs to order, and we have 44 units available. How many would you like to order?\n",
      "Please input a whole number.25\n",
      "You selected t-shirts to order, and we have 37 units available. How many would you like to order?\n",
      "Please input a whole number.19\n",
      "Customer has selected to order: {'hat': 26, 'book': 87, 'mug': 25, 't-shirt': 19}\n"
     ]
    }
   ],
   "source": [
    "products=[\"t-shirt\", \"mug\", \"hat\", \"book\", \"keychain\"]\n",
    "\n",
    "inventory={}\n",
    "\n",
    "for product in products:\n",
    "    inventory[product]=int(input(f\"How many {product}s are available in the inventory? Please input a whole number.\"))\n",
    "print(\"Currently available inventory:\",inventory)\n",
    "\n",
    "customer_orders=set()\n",
    "\n",
    "#Task 2\n",
    "answer=str()\n",
    "while answer!=\"no\":\n",
    "    order=str(input(f\"Which product would you like to order? Please type one of the following choices: {products}\")).lower()\n",
    "    if order in products and order not in customer_orders:\n",
    "        customer_orders.add(order)\n",
    "    else:\n",
    "        print(\"Something went wrong. Please check your spelling.\")\n",
    "        break\n",
    "    answer=str(input(\"Would you like to order another product? Please type yes or no.\")).lower()\n",
    "    \n",
    "#Task 3 - asking customer for desired number of items for each product and storing in in cust_orders_num dict\n",
    "cust_orders_num={}\n",
    "for order in customer_orders:\n",
    "    num_stock=inventory[order]\n",
    "    num_order=int(input(f\"You selected {order}s to order, and we have {num_stock} units available. How many would you like to order?\\nPlease input a whole number.\"))\n",
    "    if num_order<=num_stock:\n",
    "        cust_orders_num[order]=num_order\n",
    "    else:\n",
    "        print(\"We do not have enough items in stock. Please adjust the quantity.\")\n",
    "        break\n",
    "print(\"Customer has selected to order:\",cust_orders_num)"
   ]
  },
  {
   "cell_type": "code",
   "execution_count": 10,
   "id": "21815ac8",
   "metadata": {},
   "outputs": [
    {
     "name": "stdout",
     "output_type": "stream",
     "text": [
      "Updated inventory after shipping customer's order:\n",
      "t-shirt : 18\n",
      "mug : 19\n",
      "hat : 36\n",
      "book : 24\n",
      "keychain : 93\n"
     ]
    }
   ],
   "source": [
    "#substracting customer ordered items from inventory\n",
    "print(\"Updated inventory after shipping customer's order:\")\n",
    "for product,inv in inventory.items():\n",
    "    if product in cust_orders_num.keys():\n",
    "        inv-=cust_orders_num[str(product)]\n",
    "    print(product,\":\",inv)"
   ]
  }
 ],
 "metadata": {
  "kernelspec": {
   "display_name": "Python 3 (ipykernel)",
   "language": "python",
   "name": "python3"
  },
  "language_info": {
   "codemirror_mode": {
    "name": "ipython",
    "version": 3
   },
   "file_extension": ".py",
   "mimetype": "text/x-python",
   "name": "python",
   "nbconvert_exporter": "python",
   "pygments_lexer": "ipython3",
   "version": "3.11.4"
  }
 },
 "nbformat": 4,
 "nbformat_minor": 5
}
